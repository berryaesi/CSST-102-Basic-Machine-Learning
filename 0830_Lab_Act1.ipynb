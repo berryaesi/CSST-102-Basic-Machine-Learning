{
  "nbformat": 4,
  "nbformat_minor": 0,
  "metadata": {
    "colab": {
      "provenance": []
    },
    "kernelspec": {
      "name": "python3",
      "display_name": "Python 3"
    },
    "language_info": {
      "name": "python"
    }
  },
  "cells": [
    {
      "cell_type": "markdown",
      "source": [
        "# **Lab Activity 1: Overview of Machine Learning Applications**"
      ],
      "metadata": {
        "id": "r4fLxMEE7WyU"
      }
    },
    {
      "cell_type": "markdown",
      "source": [
        "# **[Video Presentation](https://drive.google.com/file/d/1x9GcxkfAOcvA16PBDFnfZc7UwAP55RwR/view?usp=sharing)**"
      ],
      "metadata": {
        "id": "qRNCnYYAVVUY"
      }
    },
    {
      "cell_type": "markdown",
      "source": [
        "# **Applications of Machine Learning Across Various Domains**\n",
        "\n",
        "---\n",
        "\n",
        "\n",
        "*   Education\n",
        "*   Agriculture\n",
        "*   Entertainment\n",
        "\n",
        "\n",
        "\n",
        "---\n",
        "\n",
        "# **Education**\n",
        "***Problem***: Personalized learning experience\n",
        "\n",
        "***Type of Machine Learning:*** Supervised learning\n",
        "\n",
        "***Impact:*** Machine learning algorithms analyze student performance data to create customized learning plans, identifying areas where students excel or struggle. This leads to improved learning outcomes, higher student engagement, and tailored educational content that meets individual needs.\n",
        "\n",
        "\n",
        "\n",
        "---\n",
        "\n",
        "# **Agriculture**\n",
        "\n",
        "***Problem***: Crop yield prediction\n",
        "\n",
        "***Type of Machine Learning:*** Unsupervised Learning\n",
        "\n",
        "***Impact:*** Machine learning models process vast amounts of data from weather patterns, soil conditions, and crop health to predict yield outcomes. This helps farmers optimize their practices, reduce waste, and improve food production efficiency, contributing to food security.\n",
        "\n",
        "\n",
        "\n",
        "---\n",
        "\n",
        "# **Entertainment**\n",
        "\n",
        "***Problem***: Content recommendation for streaming services\n",
        "\n",
        "***Type of Machine Learning:*** Reinforcement Learning\n",
        "\n",
        "***Impact:*** Streaming platforms use machine learning to analyze user behavior and preferences, providing personalized content recommendations. This increases user satisfaction, engagement, and retention by ensuring viewers discover content they are most likely to enjoy."
      ],
      "metadata": {
        "id": "htqeYCJD7aYS"
      }
    }
  ]
}